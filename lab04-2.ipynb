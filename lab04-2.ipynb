{
  "cells": [
    {
      "cell_type": "markdown",
      "metadata": {
        "id": "Rx4B4boi0565"
      },
      "source": [
        "# Lab 4-2: Load Data"
      ]
    },
    {
      "cell_type": "markdown",
      "metadata": {
        "id": "u_wAv-p00569"
      },
      "source": [
        "Author: Seungjae Lee (이승재)"
      ]
    },
    {
      "cell_type": "markdown",
      "metadata": {
        "id": "7NqVHGPk056-"
      },
      "source": [
        "<div class=\"alert alert-warning\">\n",
        "    We use elemental PyTorch to implement linear regression here. However, in most actual applications, abstractions such as <code>nn.Module</code> or <code>nn.Linear</code> are used.\n",
        "</div>"
      ]
    },
    {
      "cell_type": "markdown",
      "metadata": {
        "id": "er8qPYQ_056-"
      },
      "source": [
        "## Slicing 1D Array"
      ]
    },
    {
      "cell_type": "code",
      "execution_count": 1,
      "metadata": {
        "id": "FMKzEKyY056-"
      },
      "outputs": [],
      "source": [
        "nums = [0, 1, 2, 3, 4]"
      ]
    },
    {
      "cell_type": "code",
      "execution_count": 2,
      "metadata": {
        "colab": {
          "base_uri": "https://localhost:8080/"
        },
        "id": "S67XSWkO056_",
        "outputId": "1624799e-5c88-4a9e-d190-d85df23a58b2"
      },
      "outputs": [
        {
          "output_type": "stream",
          "name": "stdout",
          "text": [
            "[0, 1, 2, 3, 4]\n"
          ]
        }
      ],
      "source": [
        "print(nums)"
      ]
    },
    {
      "cell_type": "markdown",
      "metadata": {
        "id": "VyxGoX2o057A"
      },
      "source": [
        "index 2에서 4 전까지 가져와라. (앞 포함, 뒤 비포함)"
      ]
    },
    {
      "cell_type": "code",
      "execution_count": 3,
      "metadata": {
        "colab": {
          "base_uri": "https://localhost:8080/"
        },
        "id": "WcGS_rlX057B",
        "outputId": "b2fbc0c9-bf85-4a46-e903-65d0d7f8ad9f"
      },
      "outputs": [
        {
          "output_type": "stream",
          "name": "stdout",
          "text": [
            "[2, 3]\n"
          ]
        }
      ],
      "source": [
        "print(nums[2:4])"
      ]
    },
    {
      "cell_type": "markdown",
      "metadata": {
        "id": "P-ocamt5057B"
      },
      "source": [
        "index 2부터 다 가져와라."
      ]
    },
    {
      "cell_type": "code",
      "execution_count": 4,
      "metadata": {
        "colab": {
          "base_uri": "https://localhost:8080/"
        },
        "id": "_WJCXKIA057B",
        "outputId": "d3c98aa7-eaec-4f16-b0ed-c736b9a30255"
      },
      "outputs": [
        {
          "output_type": "stream",
          "name": "stdout",
          "text": [
            "[2, 3, 4]\n"
          ]
        }
      ],
      "source": [
        "print(nums[2:])"
      ]
    },
    {
      "cell_type": "markdown",
      "metadata": {
        "id": "LQzPJjIA057C"
      },
      "source": [
        "index 2 전까지 가져와라. (역시 뒤는 비포함)"
      ]
    },
    {
      "cell_type": "code",
      "execution_count": 5,
      "metadata": {
        "colab": {
          "base_uri": "https://localhost:8080/"
        },
        "id": "z3eLfI6q057C",
        "outputId": "3ee7731a-e240-48ba-df75-c3bc2f3e8f60"
      },
      "outputs": [
        {
          "output_type": "stream",
          "name": "stdout",
          "text": [
            "[0, 1]\n"
          ]
        }
      ],
      "source": [
        "print(nums[:2])"
      ]
    },
    {
      "cell_type": "markdown",
      "metadata": {
        "id": "R0Y7N6lA057C"
      },
      "source": [
        "전부 가져와라"
      ]
    },
    {
      "cell_type": "code",
      "execution_count": 6,
      "metadata": {
        "colab": {
          "base_uri": "https://localhost:8080/"
        },
        "id": "VL_QmNZw057C",
        "outputId": "a633266e-a656-4414-b556-33f77b8f63fb"
      },
      "outputs": [
        {
          "output_type": "stream",
          "name": "stdout",
          "text": [
            "[0, 1, 2, 3, 4]\n"
          ]
        }
      ],
      "source": [
        "print(nums[:])"
      ]
    },
    {
      "cell_type": "markdown",
      "metadata": {
        "id": "m8O0w7B0057D"
      },
      "source": [
        "마지막 index 전까지 가져와라. (뒤는 비포함!)"
      ]
    },
    {
      "cell_type": "code",
      "execution_count": 7,
      "metadata": {
        "colab": {
          "base_uri": "https://localhost:8080/"
        },
        "id": "XOSluyql057D",
        "outputId": "bedacd10-ac53-4ccc-e4ab-50ef504c4a4e"
      },
      "outputs": [
        {
          "output_type": "stream",
          "name": "stdout",
          "text": [
            "[0, 1, 2, 3]\n"
          ]
        }
      ],
      "source": [
        "print(nums[:-1])"
      ]
    },
    {
      "cell_type": "markdown",
      "metadata": {
        "id": "NLtNH4Z0057D"
      },
      "source": [
        "assign 도 가능!"
      ]
    },
    {
      "cell_type": "code",
      "execution_count": 8,
      "metadata": {
        "id": "7CZkNvPc057D"
      },
      "outputs": [],
      "source": [
        "nums[2:4] = [8, 9]"
      ]
    },
    {
      "cell_type": "code",
      "execution_count": 9,
      "metadata": {
        "colab": {
          "base_uri": "https://localhost:8080/"
        },
        "id": "SV5JFV9q057D",
        "outputId": "1984f56c-2074-4240-d1a7-70ea9a6778a2"
      },
      "outputs": [
        {
          "output_type": "stream",
          "name": "stdout",
          "text": [
            "[0, 1, 8, 9, 4]\n"
          ]
        }
      ],
      "source": [
        "print(nums)"
      ]
    },
    {
      "cell_type": "markdown",
      "metadata": {
        "id": "LOMq4HJK057E"
      },
      "source": [
        "## Slicing 2D Array"
      ]
    },
    {
      "cell_type": "code",
      "execution_count": 10,
      "metadata": {
        "id": "PU5CA4zR057E"
      },
      "outputs": [],
      "source": [
        "import numpy as np"
      ]
    },
    {
      "cell_type": "code",
      "execution_count": 11,
      "metadata": {
        "id": "o0Ayt5Qp057E"
      },
      "outputs": [],
      "source": [
        "b = np.array([[1, 2, 3, 4], [5, 6, 7, 8], [9, 10, 11, 12]])"
      ]
    },
    {
      "cell_type": "code",
      "execution_count": 12,
      "metadata": {
        "colab": {
          "base_uri": "https://localhost:8080/"
        },
        "id": "ctoPsQvK057E",
        "outputId": "f3e0cbce-be0c-4daa-e1ca-1024e8cec897"
      },
      "outputs": [
        {
          "output_type": "stream",
          "name": "stdout",
          "text": [
            "[[ 1  2  3  4]\n",
            " [ 5  6  7  8]\n",
            " [ 9 10 11 12]]\n"
          ]
        }
      ],
      "source": [
        "print(b)"
      ]
    },
    {
      "cell_type": "code",
      "execution_count": 13,
      "metadata": {
        "colab": {
          "base_uri": "https://localhost:8080/"
        },
        "id": "wcgku-1Z057F",
        "outputId": "a440b2d0-b6d8-41b5-ce5d-93a8636150d1"
      },
      "outputs": [
        {
          "output_type": "execute_result",
          "data": {
            "text/plain": [
              "array([ 2,  6, 10])"
            ]
          },
          "metadata": {},
          "execution_count": 13
        }
      ],
      "source": [
        "b[:, 1]"
      ]
    },
    {
      "cell_type": "code",
      "execution_count": 14,
      "metadata": {
        "colab": {
          "base_uri": "https://localhost:8080/"
        },
        "id": "wkqKNYWv057F",
        "outputId": "9cf6361b-8011-4ff0-e6b4-af5a9eaff631"
      },
      "outputs": [
        {
          "output_type": "execute_result",
          "data": {
            "text/plain": [
              "array([ 9, 10, 11, 12])"
            ]
          },
          "metadata": {},
          "execution_count": 14
        }
      ],
      "source": [
        "b[-1]"
      ]
    },
    {
      "cell_type": "code",
      "execution_count": 15,
      "metadata": {
        "colab": {
          "base_uri": "https://localhost:8080/"
        },
        "id": "CU_pdBC7057F",
        "outputId": "62a76e44-b8b5-4443-b91e-d6174debc3ff"
      },
      "outputs": [
        {
          "output_type": "execute_result",
          "data": {
            "text/plain": [
              "array([ 9, 10, 11, 12])"
            ]
          },
          "metadata": {},
          "execution_count": 15
        }
      ],
      "source": [
        "b[-1, :]"
      ]
    },
    {
      "cell_type": "code",
      "execution_count": 16,
      "metadata": {
        "colab": {
          "base_uri": "https://localhost:8080/"
        },
        "id": "Io4dT137057F",
        "outputId": "864dbbe5-28fc-4319-f3e2-5b58404996ea"
      },
      "outputs": [
        {
          "output_type": "execute_result",
          "data": {
            "text/plain": [
              "array([ 9, 10, 11, 12])"
            ]
          },
          "metadata": {},
          "execution_count": 16
        }
      ],
      "source": [
        "b[-1, ...]"
      ]
    },
    {
      "cell_type": "code",
      "execution_count": 17,
      "metadata": {
        "colab": {
          "base_uri": "https://localhost:8080/"
        },
        "id": "UWVj8-Uc057F",
        "outputId": "0f444ee0-00da-46d0-d49d-8a2b831225e0"
      },
      "outputs": [
        {
          "output_type": "execute_result",
          "data": {
            "text/plain": [
              "array([[1, 2, 3, 4],\n",
              "       [5, 6, 7, 8]])"
            ]
          },
          "metadata": {},
          "execution_count": 17
        }
      ],
      "source": [
        "b[0:2, :]"
      ]
    },
    {
      "cell_type": "markdown",
      "metadata": {
        "id": "XZ3inCxU057F"
      },
      "source": [
        "## Loading Data from `.csv` file"
      ]
    },
    {
      "cell_type": "code",
      "execution_count": 25,
      "metadata": {
        "id": "4RCA4Btd057F"
      },
      "outputs": [],
      "source": [
        "import numpy as np\n",
        "import pandas as pd"
      ]
    },
    {
      "cell_type": "code",
      "source": [
        "!ls"
      ],
      "metadata": {
        "colab": {
          "base_uri": "https://localhost:8080/"
        },
        "id": "qkxiKJUw2lnj",
        "outputId": "13ef0c24-2c41-47ea-b018-70dacf3631d4"
      },
      "execution_count": 35,
      "outputs": [
        {
          "output_type": "stream",
          "name": "stdout",
          "text": [
            " CNN\n",
            " CONTRIBUTING.md\n",
            " custom_data\n",
            " data-01-test-score.csv\n",
            " data-02-stock_daily.csv\n",
            " data-03-diabetes.csv\n",
            " data-04-zoo.csv\n",
            " docker\n",
            " docker_user_guide.md\n",
            " figs\n",
            " figures\n",
            " lab-01_tensor_manipulation.ipynb\n",
            " lab-02_linear_regression.ipynb\n",
            " lab-03_minimizing_cost.ipynb\n",
            " lab-04_1_multivariable_linear_regression.ipynb\n",
            " lab-04_2_load_data.ipynb\n",
            " lab-05_logistic_classification.ipynb\n",
            " lab-06_1_softmax_classification.ipynb\n",
            " lab-06_2_fancy_softmax_classification.ipynb\n",
            " lab-07_1_tips.ipynb\n",
            " lab-07_2_mnist_introduction.ipynb\n",
            " lab-08_1_xor.ipynb\n",
            " lab-08_2_xor_nn.ipynb\n",
            " lab-08_3_xor_nn_wide_deep.ipynb\n",
            " lab-08_4_mnist_back_prop.ipynb\n",
            " lab-09_1_mnist_softmax.ipynb\n",
            " lab-09_2_mnist_nn.ipynb\n",
            " lab-09_3_mnist_nn_xavier.ipynb\n",
            " lab-09_4_mnist_nn_deep.ipynb\n",
            " lab-09_5_mnist_nn_dropout.ipynb\n",
            " lab-09_6_mnist_batchnorm.ipynb\n",
            "'lab-09_7_mnist_nn_selu(wip).ipynb'\n",
            " lab-10_1_mnist_cnn.ipynb\n",
            " lab-10_2_mnist_deep_cnn.ipynb\n",
            " lab-10_3_1_visdom-example.ipynb\n",
            "'lab-10_3_2_MNIST-CNN with Visdom.ipynb'\n",
            " lab-10_4_1_ImageFolder_1.ipynb\n",
            " lab-10_4_2_ImageFolder_2.ipynb\n",
            "'lab-10_5_1_Advance-cnn(VGG).ipynb'\n",
            "'lab-10_5_2_Aadvance-CNN(VGG_cifar10).ipynb'\n",
            "'lab-10_6_1_Advance-CNN(Resnet).ipynb'\n",
            "'lab-10_6_2_Advance-CNN(ResNet_cifar10).ipynb'\n",
            " lab-11_1_RNN_basics.ipynb\n",
            " lab-11_2_1_charseq.ipynb\n",
            " lab-11_2_2_hihello.ipynb\n",
            " lab-11_3_longseq.ipynb\n",
            " lab-11_4_timeseries.ipynb\n",
            " lab-11_5_seq2seq.ipynb\n",
            " lab-11_6_PackedSequence.ipynb\n",
            " others\n",
            " pyfiles\n",
            " README.md\n",
            " requirements.txt\n",
            " resnet.py\n",
            " RNN\n",
            " run_jupyter_docker.sh\n",
            " slides\n",
            " vgg.py\n"
          ]
        }
      ]
    },
    {
      "cell_type": "code",
      "source": [
        "%cd d_competition"
      ],
      "metadata": {
        "colab": {
          "base_uri": "https://localhost:8080/"
        },
        "id": "7yY6b-RQ2luf",
        "outputId": "bd43893a-8789-493f-cf8d-cab6d033b683"
      },
      "execution_count": 34,
      "outputs": [
        {
          "output_type": "stream",
          "name": "stdout",
          "text": [
            "/content/drive/MyDrive/d_competition\n"
          ]
        }
      ]
    },
    {
      "cell_type": "code",
      "execution_count": 38,
      "metadata": {
        "id": "D9VdvHt9057F"
      },
      "outputs": [],
      "source": [
        "xy = np.loadtxt('data-01-test-score.csv', delimiter=',', dtype=np.float32)"
      ]
    },
    {
      "cell_type": "code",
      "source": [
        "from google.colab import drive\n",
        "drive.mount('/content/drive')"
      ],
      "metadata": {
        "colab": {
          "base_uri": "https://localhost:8080/"
        },
        "id": "Ig0j4hrv14-9",
        "outputId": "8857afc7-e81c-45c2-976b-fe03995d5d61"
      },
      "execution_count": 21,
      "outputs": [
        {
          "output_type": "stream",
          "name": "stdout",
          "text": [
            "Mounted at /content/drive\n"
          ]
        }
      ]
    },
    {
      "cell_type": "code",
      "execution_count": 39,
      "metadata": {
        "id": "QfEAbuN1057G"
      },
      "outputs": [],
      "source": [
        "x_data = xy[:, 0:-1]\n",
        "y_data = xy[:, [-1]]"
      ]
    },
    {
      "cell_type": "code",
      "execution_count": 40,
      "metadata": {
        "colab": {
          "base_uri": "https://localhost:8080/"
        },
        "id": "fRo_wgNc057G",
        "outputId": "0ead23a8-5de5-4b9d-9dde-7b29013119c8"
      },
      "outputs": [
        {
          "output_type": "stream",
          "name": "stdout",
          "text": [
            "(25, 3)\n",
            "25\n",
            "[[ 73.  80.  75.]\n",
            " [ 93.  88.  93.]\n",
            " [ 89.  91.  90.]\n",
            " [ 96.  98. 100.]\n",
            " [ 73.  66.  70.]]\n"
          ]
        }
      ],
      "source": [
        "print(x_data.shape) # x_data shape\n",
        "print(len(x_data))  # x_data 길이\n",
        "print(x_data[:5])   # 첫 다섯 개"
      ]
    },
    {
      "cell_type": "code",
      "execution_count": 41,
      "metadata": {
        "colab": {
          "base_uri": "https://localhost:8080/"
        },
        "id": "Ya1W-yCa057G",
        "outputId": "d158f40c-2420-4bff-f475-0c8b2d01d269"
      },
      "outputs": [
        {
          "output_type": "stream",
          "name": "stdout",
          "text": [
            "(25, 1)\n",
            "25\n",
            "[[152.]\n",
            " [185.]\n",
            " [180.]\n",
            " [196.]\n",
            " [142.]]\n"
          ]
        }
      ],
      "source": [
        "print(y_data.shape) # y_data shape\n",
        "print(len(y_data))  # y_data 길이\n",
        "print(y_data[:5])   # 첫 다섯 개"
      ]
    },
    {
      "cell_type": "markdown",
      "metadata": {
        "id": "BA8_ESEY057G"
      },
      "source": [
        "## Imports"
      ]
    },
    {
      "cell_type": "code",
      "execution_count": 42,
      "metadata": {
        "id": "UImJeEqN057G"
      },
      "outputs": [],
      "source": [
        "import torch\n",
        "import torch.nn as nn\n",
        "import torch.nn.functional as F\n",
        "import torch.optim as optim"
      ]
    },
    {
      "cell_type": "code",
      "execution_count": 43,
      "metadata": {
        "colab": {
          "base_uri": "https://localhost:8080/"
        },
        "id": "r7kJmwCP057G",
        "outputId": "352be0f6-1d3d-4bcb-9c7d-783442add3e6"
      },
      "outputs": [
        {
          "output_type": "execute_result",
          "data": {
            "text/plain": [
              "<torch._C.Generator at 0x7f02c60d6a30>"
            ]
          },
          "metadata": {},
          "execution_count": 43
        }
      ],
      "source": [
        "# For reproducibility\n",
        "torch.manual_seed(1)"
      ]
    },
    {
      "cell_type": "markdown",
      "metadata": {
        "id": "ECpFV3Ow057G"
      },
      "source": [
        "## Low-level Implementation"
      ]
    },
    {
      "cell_type": "code",
      "execution_count": 44,
      "metadata": {
        "colab": {
          "base_uri": "https://localhost:8080/"
        },
        "id": "eqIgxvVz057G",
        "outputId": "b1eebe13-c7e9-48e0-9e13-1d8cd3e40875"
      },
      "outputs": [
        {
          "output_type": "stream",
          "name": "stdout",
          "text": [
            "Epoch    0/20 Cost: 26811.960938\n",
            "Epoch    1/20 Cost: 9920.530273\n",
            "Epoch    2/20 Cost: 3675.298340\n",
            "Epoch    3/20 Cost: 1366.260498\n",
            "Epoch    4/20 Cost: 512.542480\n",
            "Epoch    5/20 Cost: 196.896637\n",
            "Epoch    6/20 Cost: 80.190987\n",
            "Epoch    7/20 Cost: 37.038696\n",
            "Epoch    8/20 Cost: 21.081343\n",
            "Epoch    9/20 Cost: 15.178760\n",
            "Epoch   10/20 Cost: 12.993679\n",
            "Epoch   11/20 Cost: 12.183023\n",
            "Epoch   12/20 Cost: 11.880535\n",
            "Epoch   13/20 Cost: 11.765958\n",
            "Epoch   14/20 Cost: 11.720851\n",
            "Epoch   15/20 Cost: 11.701438\n",
            "Epoch   16/20 Cost: 11.691514\n",
            "Epoch   17/20 Cost: 11.685116\n",
            "Epoch   18/20 Cost: 11.680005\n",
            "Epoch   19/20 Cost: 11.675380\n",
            "Epoch   20/20 Cost: 11.670952\n"
          ]
        }
      ],
      "source": [
        "# 데이터\n",
        "x_train = torch.FloatTensor(x_data)\n",
        "y_train = torch.FloatTensor(y_data)\n",
        "# 모델 초기화\n",
        "W = torch.zeros((3, 1), requires_grad=True)\n",
        "b = torch.zeros(1, requires_grad=True)\n",
        "# optimizer 설정\n",
        "optimizer = optim.SGD([W, b], lr=1e-5)\n",
        "\n",
        "nb_epochs = 20\n",
        "for epoch in range(nb_epochs + 1):\n",
        "    \n",
        "    # H(x) 계산\n",
        "    hypothesis = x_train.matmul(W) + b # or .mm or @\n",
        "\n",
        "    # cost 계산\n",
        "    cost = torch.mean((hypothesis - y_train) ** 2)\n",
        "\n",
        "    # cost로 H(x) 개선\n",
        "    optimizer.zero_grad()\n",
        "    cost.backward()\n",
        "    optimizer.step()\n",
        "\n",
        "    # 100번마다 로그 출력\n",
        "    print('Epoch {:4d}/{} Cost: {:.6f}'.format(\n",
        "        epoch, nb_epochs, cost.item()\n",
        "    ))"
      ]
    },
    {
      "cell_type": "markdown",
      "metadata": {
        "id": "qTUysUyl057H"
      },
      "source": [
        "## High-level Implementation with `nn.Module`"
      ]
    },
    {
      "cell_type": "code",
      "execution_count": 45,
      "metadata": {
        "id": "qBkYPdBz057H"
      },
      "outputs": [],
      "source": [
        "class MultivariateLinearRegressionModel(nn.Module):\n",
        "    def __init__(self):\n",
        "        super().__init__()\n",
        "        self.linear = nn.Linear(3, 1)\n",
        "\n",
        "    def forward(self, x):\n",
        "        return self.linear(x)"
      ]
    },
    {
      "cell_type": "code",
      "source": [
        "nn.Linear(3,1)"
      ],
      "metadata": {
        "colab": {
          "base_uri": "https://localhost:8080/"
        },
        "id": "IsoI7VkL2-jI",
        "outputId": "fdf53b53-70f4-4b0f-ef34-6feca7106471"
      },
      "execution_count": 46,
      "outputs": [
        {
          "output_type": "execute_result",
          "data": {
            "text/plain": [
              "Linear(in_features=3, out_features=1, bias=True)"
            ]
          },
          "metadata": {},
          "execution_count": 46
        }
      ]
    },
    {
      "cell_type": "code",
      "execution_count": 51,
      "metadata": {
        "colab": {
          "base_uri": "https://localhost:8080/"
        },
        "id": "yZU-JVK2057H",
        "outputId": "482f7e43-0da1-47ff-f79c-da4b77c3e1d6"
      },
      "outputs": [
        {
          "output_type": "stream",
          "name": "stdout",
          "text": [
            "Epoch    0/20 Cost: 22444.050781\n",
            "Epoch    1/20 Cost: 8304.253906\n",
            "Epoch    2/20 Cost: 3076.377197\n",
            "Epoch    3/20 Cost: 1143.485474\n",
            "Epoch    4/20 Cost: 428.840912\n",
            "Epoch    5/20 Cost: 164.614960\n",
            "Epoch    6/20 Cost: 66.922005\n",
            "Epoch    7/20 Cost: 30.800661\n",
            "Epoch    8/20 Cost: 17.444128\n",
            "Epoch    9/20 Cost: 12.504412\n",
            "Epoch   10/20 Cost: 10.676523\n",
            "Epoch   11/20 Cost: 9.999249\n",
            "Epoch   12/20 Cost: 9.747339\n",
            "Epoch   13/20 Cost: 9.652740\n",
            "Epoch   14/20 Cost: 9.616273\n",
            "Epoch   15/20 Cost: 9.601300\n",
            "Epoch   16/20 Cost: 9.594303\n",
            "Epoch   17/20 Cost: 9.590237\n",
            "Epoch   18/20 Cost: 9.587271\n",
            "Epoch   19/20 Cost: 9.584668\n",
            "Epoch   20/20 Cost: 9.582247\n"
          ]
        }
      ],
      "source": [
        "# 데이터\n",
        "x_train = torch.FloatTensor(x_data)\n",
        "y_train = torch.FloatTensor(y_data)\n",
        "# 모델 초기화\n",
        "model = MultivariateLinearRegressionModel()\n",
        "# optimizer 설정\n",
        "optimizer = optim.SGD(model.parameters(), lr=1e-5)\n",
        "\n",
        "nb_epochs = 20\n",
        "for epoch in range(nb_epochs+1):\n",
        "    \n",
        "    # H(x) 계산\n",
        "    prediction = model(x_train)\n",
        "    \n",
        "    # cost 계산\n",
        "    cost = F.mse_loss(prediction, y_train)\n",
        "    \n",
        "    # cost로 H(x) 개선\n",
        "    optimizer.zero_grad()\n",
        "    cost.backward()\n",
        "    optimizer.step()\n",
        "    \n",
        "    # 20번마다 로그 출력\n",
        "    print('Epoch {:4d}/{} Cost: {:.6f}'.format(\n",
        "        epoch, nb_epochs, cost.item()\n",
        "    ))"
      ]
    },
    {
      "cell_type": "markdown",
      "metadata": {
        "id": "d1Li2Q51057H"
      },
      "source": [
        "## Dataset and DataLoader"
      ]
    },
    {
      "cell_type": "markdown",
      "metadata": {
        "id": "wNvros-a057H"
      },
      "source": [
        "<div class=\"alert alert-warning\">\n",
        "    pandas 기초지식이 필요할 것 같다\n",
        "</div>"
      ]
    },
    {
      "cell_type": "code",
      "source": [
        "from torch.utils.data import Dataset\n",
        "\n",
        "class CustomDataset(Dataset):\n",
        "  def __init__(self):\n",
        "    self.x_data =[[ 73,  80,  75],\n",
        "                  [ 93,  88,  93],\n",
        "                  [ 89,  91,  90],\n",
        "                  [ 96,  98, 100],\n",
        "                  [ 73,  66,  70]]\n",
        "    self.y_data = [[152], [185], [180] ,[196], [142]]                  \n",
        "\n",
        "  def __len__(self):\n",
        "    return len(self.x_data)\n",
        "  \n",
        "  def __getitem__(self, idx):\n",
        "    x = torch.FloatTensor(self.x_data[idx])\n",
        "    y = torch.FloatTensor(self.y_data[idx])\n",
        "    return x,y\n",
        "\n",
        "dataset = CustomDataset()"
      ],
      "metadata": {
        "id": "ATvJWYPJ3W-b"
      },
      "execution_count": 47,
      "outputs": []
    },
    {
      "cell_type": "code",
      "source": [
        "from torch.utils.data import DataLoader\n",
        "\n",
        "dataloader = DataLoader(\n",
        "    dataset,\n",
        "    batch_size=2,\n",
        "    shuffle = True\n",
        ")"
      ],
      "metadata": {
        "id": "lu16hsOH3_Ep"
      },
      "execution_count": 49,
      "outputs": []
    },
    {
      "cell_type": "code",
      "source": [
        "nb_epochs = 20\n",
        "for epoch in range(nb_epochs+1):\n",
        "  for batch_idx, samples in enumerate(dataloader):\n",
        "    \n",
        "      # H(x) 계산\n",
        "      prediction = model(x_train)\n",
        "      \n",
        "      # cost 계산\n",
        "      cost = F.mse_loss(prediction, y_train)\n",
        "      \n",
        "      # cost로 H(x) 개선\n",
        "      optimizer.zero_grad()\n",
        "      cost.backward()\n",
        "      optimizer.step()\n",
        "      \n",
        "      # 20번마다 로그 출력\n",
        "      print('Epoch {:4d}/{} Batch{}/{} Cost: {:.6f}'.format(\n",
        "          epoch, nb_epochs, batch_idx+1, len(dataloader), cost.item()\n",
        "      ))"
      ],
      "metadata": {
        "colab": {
          "base_uri": "https://localhost:8080/"
        },
        "id": "hvfPP9x94FfD",
        "outputId": "2fb19a2f-7b66-45a0-bd23-51a4ae27af92"
      },
      "execution_count": 53,
      "outputs": [
        {
          "output_type": "stream",
          "name": "stdout",
          "text": [
            "Epoch    0/20 Batch1/3 Cost: 9.435888\n",
            "Epoch    0/20 Batch2/3 Cost: 9.433691\n",
            "Epoch    0/20 Batch3/3 Cost: 9.431454\n",
            "Epoch    1/20 Batch1/3 Cost: 9.429218\n",
            "Epoch    1/20 Batch2/3 Cost: 9.426997\n",
            "Epoch    1/20 Batch3/3 Cost: 9.424771\n",
            "Epoch    2/20 Batch1/3 Cost: 9.422530\n",
            "Epoch    2/20 Batch2/3 Cost: 9.420312\n",
            "Epoch    2/20 Batch3/3 Cost: 9.418097\n",
            "Epoch    3/20 Batch1/3 Cost: 9.415869\n",
            "Epoch    3/20 Batch2/3 Cost: 9.413650\n",
            "Epoch    3/20 Batch3/3 Cost: 9.411441\n",
            "Epoch    4/20 Batch1/3 Cost: 9.409225\n",
            "Epoch    4/20 Batch2/3 Cost: 9.407017\n",
            "Epoch    4/20 Batch3/3 Cost: 9.404799\n",
            "Epoch    5/20 Batch1/3 Cost: 9.402602\n",
            "Epoch    5/20 Batch2/3 Cost: 9.400373\n",
            "Epoch    5/20 Batch3/3 Cost: 9.398164\n",
            "Epoch    6/20 Batch1/3 Cost: 9.395971\n",
            "Epoch    6/20 Batch2/3 Cost: 9.393768\n",
            "Epoch    6/20 Batch3/3 Cost: 9.391559\n",
            "Epoch    7/20 Batch1/3 Cost: 9.389375\n",
            "Epoch    7/20 Batch2/3 Cost: 9.387171\n",
            "Epoch    7/20 Batch3/3 Cost: 9.384965\n",
            "Epoch    8/20 Batch1/3 Cost: 9.382771\n",
            "Epoch    8/20 Batch2/3 Cost: 9.380582\n",
            "Epoch    8/20 Batch3/3 Cost: 9.378392\n",
            "Epoch    9/20 Batch1/3 Cost: 9.376204\n",
            "Epoch    9/20 Batch2/3 Cost: 9.373990\n",
            "Epoch    9/20 Batch3/3 Cost: 9.371820\n",
            "Epoch   10/20 Batch1/3 Cost: 9.369636\n",
            "Epoch   10/20 Batch2/3 Cost: 9.367456\n",
            "Epoch   10/20 Batch3/3 Cost: 9.365265\n",
            "Epoch   11/20 Batch1/3 Cost: 9.363092\n",
            "Epoch   11/20 Batch2/3 Cost: 9.360908\n",
            "Epoch   11/20 Batch3/3 Cost: 9.358735\n",
            "Epoch   12/20 Batch1/3 Cost: 9.356553\n",
            "Epoch   12/20 Batch2/3 Cost: 9.354376\n",
            "Epoch   12/20 Batch3/3 Cost: 9.352221\n",
            "Epoch   13/20 Batch1/3 Cost: 9.350033\n",
            "Epoch   13/20 Batch2/3 Cost: 9.347864\n",
            "Epoch   13/20 Batch3/3 Cost: 9.345704\n",
            "Epoch   14/20 Batch1/3 Cost: 9.343536\n",
            "Epoch   14/20 Batch2/3 Cost: 9.341373\n",
            "Epoch   14/20 Batch3/3 Cost: 9.339199\n",
            "Epoch   15/20 Batch1/3 Cost: 9.337040\n",
            "Epoch   15/20 Batch2/3 Cost: 9.334873\n",
            "Epoch   15/20 Batch3/3 Cost: 9.332721\n",
            "Epoch   16/20 Batch1/3 Cost: 9.330559\n",
            "Epoch   16/20 Batch2/3 Cost: 9.328401\n",
            "Epoch   16/20 Batch3/3 Cost: 9.326250\n",
            "Epoch   17/20 Batch1/3 Cost: 9.324096\n",
            "Epoch   17/20 Batch2/3 Cost: 9.321946\n",
            "Epoch   17/20 Batch3/3 Cost: 9.319795\n",
            "Epoch   18/20 Batch1/3 Cost: 9.317652\n",
            "Epoch   18/20 Batch2/3 Cost: 9.315503\n",
            "Epoch   18/20 Batch3/3 Cost: 9.313366\n",
            "Epoch   19/20 Batch1/3 Cost: 9.311222\n",
            "Epoch   19/20 Batch2/3 Cost: 9.309060\n",
            "Epoch   19/20 Batch3/3 Cost: 9.306946\n",
            "Epoch   20/20 Batch1/3 Cost: 9.304779\n",
            "Epoch   20/20 Batch2/3 Cost: 9.302669\n",
            "Epoch   20/20 Batch3/3 Cost: 9.300522\n"
          ]
        }
      ]
    },
    {
      "cell_type": "markdown",
      "metadata": {
        "id": "b4OxJmj1057H"
      },
      "source": [
        "너무 데이터가 크면 `x_data`, `y_data` 를 전부 다 가져오지 말고, 필요한 배치만 가져올 수 밖에 없다."
      ]
    },
    {
      "cell_type": "markdown",
      "metadata": {
        "id": "fmi84IsR057H"
      },
      "source": [
        "[PyTorch Data Loading and Processing tutorial](https://pytorch.org/tutorials/beginner/data_loading_tutorial.html#iterating-through-the-dataset)"
      ]
    }
  ],
  "metadata": {
    "kernelspec": {
      "display_name": "Python 3",
      "language": "python",
      "name": "python3"
    },
    "language_info": {
      "codemirror_mode": {
        "name": "ipython",
        "version": 3
      },
      "file_extension": ".py",
      "mimetype": "text/x-python",
      "name": "python",
      "nbconvert_exporter": "python",
      "pygments_lexer": "ipython3",
      "version": "3.7.0"
    },
    "colab": {
      "name": "lab-04_2_load_data.ipynb",
      "provenance": []
    }
  },
  "nbformat": 4,
  "nbformat_minor": 0
}