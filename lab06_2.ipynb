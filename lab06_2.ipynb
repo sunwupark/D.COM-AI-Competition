{
  "cells": [
    {
      "cell_type": "markdown",
      "metadata": {
        "id": "w8XAQSh-Va8f"
      },
      "source": [
        "# Lab 6-2: Fancy Softmax Classification"
      ]
    },
    {
      "cell_type": "markdown",
      "metadata": {
        "id": "KSkc9JpLVa8k"
      },
      "source": [
        "Author: Seungjae Lee (이승재)"
      ]
    },
    {
      "cell_type": "markdown",
      "metadata": {
        "id": "0HBMMW_MVa8l"
      },
      "source": [
        "## Imports"
      ]
    },
    {
      "cell_type": "code",
      "execution_count": 1,
      "metadata": {
        "id": "58g95pqHVa8l"
      },
      "outputs": [],
      "source": [
        "import numpy as np\n",
        "import torch\n",
        "import torch.nn as nn\n",
        "import torch.nn.functional as F\n",
        "import torch.optim as optim"
      ]
    },
    {
      "cell_type": "code",
      "execution_count": 2,
      "metadata": {
        "colab": {
          "base_uri": "https://localhost:8080/"
        },
        "id": "qfj2DEymVa8m",
        "outputId": "161708f9-18f1-4884-9131-24c91a4be025"
      },
      "outputs": [
        {
          "output_type": "execute_result",
          "data": {
            "text/plain": [
              "<torch._C.Generator at 0x7f44a3447750>"
            ]
          },
          "metadata": {},
          "execution_count": 2
        }
      ],
      "source": [
        "# For reproducibility\n",
        "torch.manual_seed(1)"
      ]
    },
    {
      "cell_type": "markdown",
      "metadata": {
        "id": "ucH8t4DdVa8n"
      },
      "source": [
        "## Cross-entropy Loss with `torch.nn.functional`"
      ]
    },
    {
      "cell_type": "code",
      "source": [
        "from google.colab import drive\n",
        "drive.mount('/content/drive')"
      ],
      "metadata": {
        "colab": {
          "base_uri": "https://localhost:8080/"
        },
        "id": "0tU9DwBuV0Tx",
        "outputId": "c1eae433-4e27-4194-c309-bf788a57d11a"
      },
      "execution_count": 3,
      "outputs": [
        {
          "output_type": "stream",
          "name": "stdout",
          "text": [
            "Mounted at /content/drive\n"
          ]
        }
      ]
    },
    {
      "cell_type": "markdown",
      "metadata": {
        "id": "ipvc4ITFVa8n"
      },
      "source": [
        "PyTorch has `F.log_softmax()` function."
      ]
    },
    {
      "cell_type": "code",
      "execution_count": 4,
      "metadata": {
        "colab": {
          "base_uri": "https://localhost:8080/"
        },
        "id": "XpI89zexVa8o",
        "outputId": "ce6daa98-3a05-4a78-ece6-a55f71916c9f"
      },
      "outputs": [
        {
          "output_type": "execute_result",
          "data": {
            "text/plain": [
              "tensor([[1., 0., 0., 0., 0.],\n",
              "        [0., 0., 1., 0., 0.],\n",
              "        [0., 1., 0., 0., 0.]])"
            ]
          },
          "metadata": {},
          "execution_count": 4
        }
      ],
      "source": [
        "z = torch.rand(3, 5, requires_grad=True)\n",
        "hypothesis = F.softmax(z, dim=1)\n",
        "y = torch.randint(5, (3,)).long()\n",
        "y_one_hot = torch.zeros_like(hypothesis)\n",
        "y_one_hot.scatter_(1, y.unsqueeze(1), 1)"
      ]
    },
    {
      "cell_type": "code",
      "execution_count": 5,
      "metadata": {
        "colab": {
          "base_uri": "https://localhost:8080/"
        },
        "id": "0Xgys291Va8o",
        "outputId": "d564bb23-bbb3-40be-b3db-1a14e2fa91e4"
      },
      "outputs": [
        {
          "output_type": "execute_result",
          "data": {
            "text/plain": [
              "tensor([[-1.3301, -1.8084, -1.6846, -1.3530, -2.0584],\n",
              "        [-1.4147, -1.8174, -1.4602, -1.6450, -1.7758],\n",
              "        [-1.5025, -1.6165, -1.4586, -1.8360, -1.6776]], grad_fn=<LogBackward0>)"
            ]
          },
          "metadata": {},
          "execution_count": 5
        }
      ],
      "source": [
        "# Low level\n",
        "torch.log(F.softmax(z, dim=1))"
      ]
    },
    {
      "cell_type": "code",
      "execution_count": 6,
      "metadata": {
        "colab": {
          "base_uri": "https://localhost:8080/"
        },
        "id": "yUxY4simVa8p",
        "outputId": "2ab88532-a288-4859-c476-c35d39fd4b82"
      },
      "outputs": [
        {
          "output_type": "execute_result",
          "data": {
            "text/plain": [
              "tensor([[-1.3301, -1.8084, -1.6846, -1.3530, -2.0584],\n",
              "        [-1.4147, -1.8174, -1.4602, -1.6450, -1.7758],\n",
              "        [-1.5025, -1.6165, -1.4586, -1.8360, -1.6776]],\n",
              "       grad_fn=<LogSoftmaxBackward0>)"
            ]
          },
          "metadata": {},
          "execution_count": 6
        }
      ],
      "source": [
        "# High level\n",
        "F.log_softmax(z, dim=1)"
      ]
    },
    {
      "cell_type": "markdown",
      "metadata": {
        "id": "C88yJHwYVa8p"
      },
      "source": [
        "PyTorch also has `F.nll_loss()` function that computes the negative loss likelihood."
      ]
    },
    {
      "cell_type": "code",
      "execution_count": 7,
      "metadata": {
        "colab": {
          "base_uri": "https://localhost:8080/"
        },
        "id": "yvdHmLadVa8p",
        "outputId": "65273937-c70d-4780-a53b-051abd7093d7"
      },
      "outputs": [
        {
          "output_type": "execute_result",
          "data": {
            "text/plain": [
              "tensor(1.4689, grad_fn=<MeanBackward0>)"
            ]
          },
          "metadata": {},
          "execution_count": 7
        }
      ],
      "source": [
        "# Low level\n",
        "(y_one_hot * -torch.log(F.softmax(z, dim=1))).sum(dim=1).mean()"
      ]
    },
    {
      "cell_type": "code",
      "execution_count": 8,
      "metadata": {
        "colab": {
          "base_uri": "https://localhost:8080/"
        },
        "id": "Xd8EVfywVa8q",
        "outputId": "41a5a311-c454-407a-da5d-d97064b29882"
      },
      "outputs": [
        {
          "output_type": "execute_result",
          "data": {
            "text/plain": [
              "tensor(1.4689, grad_fn=<NllLossBackward0>)"
            ]
          },
          "metadata": {},
          "execution_count": 8
        }
      ],
      "source": [
        "# High level\n",
        "F.nll_loss(F.log_softmax(z, dim=1), y.long())"
      ]
    },
    {
      "cell_type": "markdown",
      "metadata": {
        "id": "G2LfuYsnVa8q"
      },
      "source": [
        "PyTorch also has `F.cross_entropy` that combines `F.log_softmax()` and `F.nll_loss()`."
      ]
    },
    {
      "cell_type": "code",
      "execution_count": 9,
      "metadata": {
        "colab": {
          "base_uri": "https://localhost:8080/"
        },
        "id": "FLA_LzDQVa8q",
        "outputId": "c131c6d8-f659-4d2e-9549-6d7a1a8f8c2b"
      },
      "outputs": [
        {
          "output_type": "execute_result",
          "data": {
            "text/plain": [
              "tensor(1.4689, grad_fn=<NllLossBackward0>)"
            ]
          },
          "metadata": {},
          "execution_count": 9
        }
      ],
      "source": [
        "F.cross_entropy(z, y)"
      ]
    },
    {
      "cell_type": "markdown",
      "metadata": {
        "id": "OyoozqTWVa8q"
      },
      "source": [
        "## Data"
      ]
    },
    {
      "cell_type": "code",
      "source": [
        "%cd drive/MyDrive/d_competition/"
      ],
      "metadata": {
        "colab": {
          "base_uri": "https://localhost:8080/"
        },
        "id": "90nxTpriX3QQ",
        "outputId": "4b512626-e301-471a-dc7e-8bf5d19083b4"
      },
      "execution_count": 11,
      "outputs": [
        {
          "output_type": "stream",
          "name": "stdout",
          "text": [
            "/content/drive/MyDrive/d_competition\n"
          ]
        }
      ]
    },
    {
      "cell_type": "code",
      "execution_count": 12,
      "metadata": {
        "id": "l74sXqTbVa8q"
      },
      "outputs": [],
      "source": [
        "xy = np.loadtxt('data-04-zoo.csv', delimiter=',', dtype=np.float32)"
      ]
    },
    {
      "cell_type": "code",
      "execution_count": 13,
      "metadata": {
        "id": "5dCRjEeXVa8r"
      },
      "outputs": [],
      "source": [
        "x_train = torch.FloatTensor(xy[:, 0:-1])\n",
        "y_train = torch.LongTensor(xy[:, [-1]]).squeeze()"
      ]
    },
    {
      "cell_type": "code",
      "execution_count": 14,
      "metadata": {
        "colab": {
          "base_uri": "https://localhost:8080/"
        },
        "id": "fP5kehkkVa8r",
        "outputId": "5b58222a-eeac-4bfb-f219-8812ae1c7c5c"
      },
      "outputs": [
        {
          "output_type": "stream",
          "name": "stdout",
          "text": [
            "torch.Size([101, 16])\n",
            "101\n",
            "tensor([[1., 0., 0., 1., 0., 0., 1., 1., 1., 1., 0., 0., 4., 0., 0., 1.],\n",
            "        [1., 0., 0., 1., 0., 0., 0., 1., 1., 1., 0., 0., 4., 1., 0., 1.],\n",
            "        [0., 0., 1., 0., 0., 1., 1., 1., 1., 0., 0., 1., 0., 1., 0., 0.],\n",
            "        [1., 0., 0., 1., 0., 0., 1., 1., 1., 1., 0., 0., 4., 0., 0., 1.],\n",
            "        [1., 0., 0., 1., 0., 0., 1., 1., 1., 1., 0., 0., 4., 1., 0., 1.]])\n"
          ]
        }
      ],
      "source": [
        "print(x_train.shape) # x_train shape\n",
        "print(len(x_train))  # x_train 길이\n",
        "print(x_train[:5])   # 첫 다섯 개"
      ]
    },
    {
      "cell_type": "code",
      "execution_count": 15,
      "metadata": {
        "colab": {
          "base_uri": "https://localhost:8080/"
        },
        "id": "UxCiWsBtVa8r",
        "outputId": "dd8770ab-87de-4359-d475-70173ced1e12"
      },
      "outputs": [
        {
          "output_type": "stream",
          "name": "stdout",
          "text": [
            "torch.Size([101])\n",
            "101\n",
            "tensor([0, 0, 3, 0, 0])\n"
          ]
        }
      ],
      "source": [
        "print(y_train.shape) # y_train shape\n",
        "print(len(y_train))  # y_train 길이\n",
        "print(y_train[:5])   # 첫 다섯 개"
      ]
    },
    {
      "cell_type": "code",
      "execution_count": 16,
      "metadata": {
        "id": "J4g07Cb7Va8r"
      },
      "outputs": [],
      "source": [
        "nb_classes = 7\n",
        "y_one_hot = torch.zeros((len(y_train), nb_classes))\n",
        "y_one_hot = y_one_hot.scatter(1, y_train.unsqueeze(1), 1)"
      ]
    },
    {
      "cell_type": "markdown",
      "metadata": {
        "id": "yyO8AZrOVa8s"
      },
      "source": [
        "## Training with `F.cross_entropy`"
      ]
    },
    {
      "cell_type": "code",
      "execution_count": null,
      "metadata": {
        "id": "aUe4ml0wVa8s",
        "outputId": "6b4227e4-3cab-47b4-abcb-4c5d7cae71d8"
      },
      "outputs": [
        {
          "name": "stdout",
          "output_type": "stream",
          "text": [
            "Epoch    0/1000 Cost: 1.945909\n",
            "Epoch  100/1000 Cost: 0.471836\n",
            "Epoch  200/1000 Cost: 0.326327\n",
            "Epoch  300/1000 Cost: 0.257839\n",
            "Epoch  400/1000 Cost: 0.215762\n",
            "Epoch  500/1000 Cost: 0.186603\n",
            "Epoch  600/1000 Cost: 0.164898\n",
            "Epoch  700/1000 Cost: 0.147955\n",
            "Epoch  800/1000 Cost: 0.134279\n",
            "Epoch  900/1000 Cost: 0.122962\n",
            "Epoch 1000/1000 Cost: 0.113422\n"
          ]
        }
      ],
      "source": [
        "# 모델 초기화\n",
        "W = torch.zeros((16, 7), requires_grad=True)\n",
        "b = torch.zeros(1, requires_grad=True)\n",
        "# optimizer 설정\n",
        "optimizer = optim.SGD([W, b], lr=0.1)\n",
        "\n",
        "nb_epochs = 1000\n",
        "for epoch in range(nb_epochs + 1):\n",
        "\n",
        "    # Cost 계산 (2)\n",
        "    z = x_train.matmul(W) + b # or .mm or @\n",
        "    cost = F.cross_entropy(z, y_train)\n",
        "\n",
        "    # cost로 H(x) 개선\n",
        "    optimizer.zero_grad()\n",
        "    cost.backward()\n",
        "    optimizer.step()\n",
        "\n",
        "    # 100번마다 로그 출력\n",
        "    if epoch % 100 == 0:\n",
        "        print('Epoch {:4d}/{} Cost: {:.6f}'.format(\n",
        "            epoch, nb_epochs, cost.item()\n",
        "        ))"
      ]
    },
    {
      "cell_type": "markdown",
      "metadata": {
        "id": "ER3B3i_fVa8s"
      },
      "source": [
        "## High-level Implementation with `nn.Module`"
      ]
    },
    {
      "cell_type": "code",
      "execution_count": 17,
      "metadata": {
        "id": "_NfK7ViKVa8s"
      },
      "outputs": [],
      "source": [
        "class SoftmaxClassifierModel(nn.Module):\n",
        "    def __init__(self):\n",
        "        super().__init__()\n",
        "        self.linear = nn.Linear(16, 7)\n",
        "    def forward(self, x):\n",
        "        return self.linear(x)"
      ]
    },
    {
      "cell_type": "code",
      "execution_count": 18,
      "metadata": {
        "id": "YNTfNcHEVa8s"
      },
      "outputs": [],
      "source": [
        "model = SoftmaxClassifierModel()"
      ]
    },
    {
      "cell_type": "code",
      "execution_count": 19,
      "metadata": {
        "colab": {
          "base_uri": "https://localhost:8080/"
        },
        "id": "CAtT0BL0Va8s",
        "outputId": "f8de9194-791d-463a-9da2-da3172619b24"
      },
      "outputs": [
        {
          "output_type": "stream",
          "name": "stdout",
          "text": [
            "Epoch    0/1000 Cost: 1.919160\n",
            "Epoch  100/1000 Cost: 0.468405\n",
            "Epoch  200/1000 Cost: 0.320585\n",
            "Epoch  300/1000 Cost: 0.248953\n",
            "Epoch  400/1000 Cost: 0.204819\n",
            "Epoch  500/1000 Cost: 0.174506\n",
            "Epoch  600/1000 Cost: 0.152248\n",
            "Epoch  700/1000 Cost: 0.135139\n",
            "Epoch  800/1000 Cost: 0.121543\n",
            "Epoch  900/1000 Cost: 0.110461\n",
            "Epoch 1000/1000 Cost: 0.101245\n"
          ]
        }
      ],
      "source": [
        "# optimizer 설정\n",
        "optimizer = optim.SGD(model.parameters(), lr=0.1)\n",
        "\n",
        "nb_epochs = 1000\n",
        "for epoch in range(nb_epochs + 1):\n",
        "\n",
        "    # H(x) 계산\n",
        "    prediction = model(x_train)\n",
        "\n",
        "    # cost 계산\n",
        "    cost = F.cross_entropy(prediction, y_train)\n",
        "\n",
        "    # cost로 H(x) 개선\n",
        "    optimizer.zero_grad()\n",
        "    cost.backward()\n",
        "    optimizer.step()\n",
        "    \n",
        "    # 20번마다 로그 출력\n",
        "    if epoch % 100 == 0:\n",
        "        print('Epoch {:4d}/{} Cost: {:.6f}'.format(\n",
        "            epoch, nb_epochs, cost.item()\n",
        "        ))"
      ]
    },
    {
      "cell_type": "markdown",
      "metadata": {
        "id": "PoxRl-zyVa8t"
      },
      "source": [
        "<div class=\"alert alert-warning\">\n",
        "    Should I display how many it got correct in the training set?\n",
        "</div>"
      ]
    }
  ],
  "metadata": {
    "kernelspec": {
      "display_name": "Python 3",
      "language": "python",
      "name": "python3"
    },
    "language_info": {
      "codemirror_mode": {
        "name": "ipython",
        "version": 3
      },
      "file_extension": ".py",
      "mimetype": "text/x-python",
      "name": "python",
      "nbconvert_exporter": "python",
      "pygments_lexer": "ipython3",
      "version": "3.6.8"
    },
    "colab": {
      "name": "lab-06_2_fancy_softmax_classification.ipynb",
      "provenance": []
    }
  },
  "nbformat": 4,
  "nbformat_minor": 0
}