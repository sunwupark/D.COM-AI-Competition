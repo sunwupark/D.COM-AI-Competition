{
  "cells": [
    {
      "cell_type": "markdown",
      "metadata": {
        "id": "eYjbOxwKpbKR"
      },
      "source": [
        "# Lab 7-1: Tips"
      ]
    },
    {
      "cell_type": "markdown",
      "metadata": {
        "id": "EeFZGISqpbKV"
      },
      "source": [
        "Author: Seungjae Lee (이승재)"
      ]
    },
    {
      "cell_type": "code",
      "execution_count": 1,
      "metadata": {
        "id": "2_yPQ1LgpbKX"
      },
      "outputs": [],
      "source": [
        "import torch\n",
        "import torch.nn as nn\n",
        "import torch.nn.functional as F\n",
        "import torch.optim as optim"
      ]
    },
    {
      "cell_type": "code",
      "execution_count": 2,
      "metadata": {
        "colab": {
          "base_uri": "https://localhost:8080/"
        },
        "id": "hnOdZD79pbKY",
        "outputId": "ea98d7cd-278b-4da2-ca8b-1efdf6371623"
      },
      "outputs": [
        {
          "output_type": "execute_result",
          "data": {
            "text/plain": [
              "<torch._C.Generator at 0x7fa594dd2790>"
            ]
          },
          "metadata": {},
          "execution_count": 2
        }
      ],
      "source": [
        "# For reproducibility\n",
        "torch.manual_seed(1)"
      ]
    },
    {
      "cell_type": "markdown",
      "source": [
        "MLE(Maximum Likelihood Estimatin (MLE):\n",
        "압정을 바닥으로 던졌을때\n",
        "1. 납작한 면이 바닥으로 떨어지는경우\n",
        "2. 날카로운면이 바닥으로 떨어지는 경우\n",
        "\n",
        "=> 베르누이 분포: Binary Classification\n",
        "\n",
        "Binomial\n",
        "-> 압정을 100번 던졌을때 n = 100\n",
        "-> (class1) k = 27\n",
        "\n",
        "K ~ B(n,0)\n",
        "![image.png](data:image/png;base64,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)"
      ],
      "metadata": {
        "id": "AAf-x5_0rF2h"
      }
    },
    {
      "cell_type": "markdown",
      "source": [
        "즉 Likelilhood 가 max가 되는곳. 세타를 바꿔가면서 최대가 되는 지점을 찾아본다. theta = 0.27\n",
        "Observation을 가장 잘 설명하는 theta를 찾아내는 과정\n",
        "\n",
        "Local Maximam \n",
        "\n",
        "Overfitting 그 데이터를 가장 잘 찾는것을 찾다보니 생길수 밖에 없다\n",
        "-> Training Set, Validation Set, Test Set\n",
        "\n",
        "Overfitting 방지:\n",
        "- More Data\n",
        "- Less Features\n",
        "- Regularization\n",
        "=> EarlyStopping: Validation Loss 가 낮아지지 않을때\n",
        "=> Reducing Network Size\n",
        "=> Weight Decay\n",
        "=> Dropout\n",
        "=> Batch Normalization\n",
        "\n"
      ],
      "metadata": {
        "id": "sMnl9k-Urtxw"
      }
    },
    {
      "cell_type": "markdown",
      "metadata": {
        "id": "n1V5uPX-pbKZ"
      },
      "source": [
        "## Training and Test Datasets"
      ]
    },
    {
      "cell_type": "code",
      "execution_count": 3,
      "metadata": {
        "id": "Q2LmpoujpbKZ"
      },
      "outputs": [],
      "source": [
        "x_train = torch.FloatTensor([[1, 2, 1],\n",
        "                             [1, 3, 2],\n",
        "                             [1, 3, 4],\n",
        "                             [1, 5, 5],\n",
        "                             [1, 7, 5],\n",
        "                             [1, 2, 5],\n",
        "                             [1, 6, 6],\n",
        "                             [1, 7, 7]\n",
        "                            ])\n",
        "y_train = torch.LongTensor([2, 2, 2, 1, 1, 1, 0, 0])"
      ]
    },
    {
      "cell_type": "code",
      "execution_count": 4,
      "metadata": {
        "id": "8Vbywjk3pbKa"
      },
      "outputs": [],
      "source": [
        "x_test = torch.FloatTensor([[2, 1, 1], [3, 1, 2], [3, 3, 4]])\n",
        "y_test = torch.LongTensor([2, 2, 2])"
      ]
    },
    {
      "cell_type": "markdown",
      "metadata": {
        "id": "pNIHhzdbpbKa"
      },
      "source": [
        "## Model"
      ]
    },
    {
      "cell_type": "code",
      "execution_count": null,
      "metadata": {
        "id": "RvLHJF17pbKb"
      },
      "outputs": [],
      "source": [
        "class SoftmaxClassifierModel(nn.Module):\n",
        "    def __init__(self):\n",
        "        super().__init__()\n",
        "        self.linear = nn.Linear(3, 3)\n",
        "    def forward(self, x):\n",
        "        return self.linear(x)"
      ]
    },
    {
      "cell_type": "code",
      "source": [
        "class SoftmaxClassifierModel(nn.Module):\n",
        "  def __init__(self):\n",
        "    super().__init__()\n",
        "    self.linear = nn.Linear(3,3)\n",
        "\n",
        "  def forward(self,x):\n",
        "    return self.linear(x)"
      ],
      "metadata": {
        "id": "oWxHB363vj1E"
      },
      "execution_count": 5,
      "outputs": []
    },
    {
      "cell_type": "code",
      "execution_count": 6,
      "metadata": {
        "id": "pbsAIXt-pbKb"
      },
      "outputs": [],
      "source": [
        "model = SoftmaxClassifierModel()"
      ]
    },
    {
      "cell_type": "code",
      "execution_count": null,
      "metadata": {
        "id": "CqCD2FoqpbKc"
      },
      "outputs": [],
      "source": [
        "# optimizer 설정\n",
        "optimizer = optim.SGD(model.parameters(), lr=0.1)"
      ]
    },
    {
      "cell_type": "code",
      "source": [
        "optimizer = optim.SGD(model.parameters(), lr =0.1)"
      ],
      "metadata": {
        "id": "lZxx-TQxvvAr"
      },
      "execution_count": 7,
      "outputs": []
    },
    {
      "cell_type": "code",
      "execution_count": 35,
      "metadata": {
        "id": "llfI_p1HpbKc"
      },
      "outputs": [],
      "source": [
        "def train(model, optimizer, x_train, y_train):\n",
        "    nb_epochs = 20\n",
        "    for epoch in range(nb_epochs):\n",
        "\n",
        "        # H(x) 계산\n",
        "        prediction = model(x_train)\n",
        "        #[X_train] = (m,3)\n",
        "        #[prediction] = (m,3)\n",
        "\n",
        "        # cost 계산\n",
        "        cost = F.cross_entropy(prediction, y_train)\n",
        "        #[y_train] = (m,3)\n",
        "\n",
        "        # cost로 H(x) 개선\n",
        "        optimizer.zero_grad()\n",
        "        cost.backward()\n",
        "        optimizer.step()\n",
        "\n",
        "        print('Epoch {:4d}/{} Cost: {:.6f}'.format(\n",
        "            epoch, nb_epochs, cost.item()\n",
        "        ))"
      ]
    },
    {
      "cell_type": "code",
      "source": [
        "def train(model, optimizer, x_train, y_train):\n",
        "  nb_epochs = 20\n",
        "  for epoch in range(nb_epochs):\n",
        "    prediction = model(x_train)\n",
        "    #1. max(1) 에서 1은 dimemsion을 말한다 즉 0이면 column 7개중의 max를 \n",
        "    #   1이면 한 row에 있는 3개중의 max를 뽑아낸다 \n",
        "\n",
        "    #2. prediciton.max(1)[1]에서 [1]을 하는 이유는 [0]에는 제일 높은 값을, \n",
        "    # [1] 에는 높은 값의 위치를 반환해주기 때문이다\n",
        "    # EX)\n",
        "    # torch.return_types.max(\n",
        "    #    values=tensor([ 1.2810,  0.7681,  0.4435,  0.2231, -0.1340,  1.0643,  0.2830,  0.5408],\n",
        "    #    grad_fn=<MaxBackward0>),indices=tensor([2, 2, 1, 1, 0, 1, 1, 0])\n",
        "    \n",
        "    predicted_classes = prediction.max(1)[1]\n",
        "    print(\"predicted_classes: \", predicted_classes)\n",
        "    print(\"prediction: \", prediction)\n",
        "    cost = F.cross_entropy(prediction, y_train)\n",
        "    optimizer.zero_grad()\n",
        "    cost.backward()\n",
        "    optimizer.step()\n",
        "\n",
        "    print(\n",
        "      'Epoch {:4d}/{} Cost: {:.6f}'.format(epoch, nb_epochs, cost.item())\n",
        "    )"
      ],
      "metadata": {
        "id": "JFLASe_rzxwX"
      },
      "execution_count": 29,
      "outputs": []
    },
    {
      "cell_type": "code",
      "execution_count": 23,
      "metadata": {
        "id": "Ej-qm34ipbKd"
      },
      "outputs": [],
      "source": [
        "def test(model, optimizer, x_test, y_test):\n",
        "    prediction = model(x_test)\n",
        "    predicted_classes = prediction.max(1)[1]\n",
        "    print(\"predicted_classes: \", predicted_classes)\n",
        "    print(\"prediction: \", prediction)\n",
        "    correct_count = (predicted_classes == y_test).sum().item()\n",
        "    cost = F.cross_entropy(prediction, y_test)\n",
        "\n",
        "    print('Accuracy: {}% Cost: {:.6f}'.format(\n",
        "         correct_count / len(y_test) * 100, cost.item()\n",
        "    ))"
      ]
    },
    {
      "cell_type": "code",
      "source": [
        "def test(model, optimizer, x_test, y_test):\n",
        "  prediction = model(x_test)\n",
        "  predicted_classes = prediction.max(1)[1]\n",
        "  correct_count = (predicted_classes == y_test).sum().item()\n",
        "  cost = F.cross_entropy(prediction, y_test)\n",
        "\n",
        "  print('Accuracy: {}% Cost: {:.6f}'.format(\n",
        "      correct_count / len(y_test) * 100, cost.item()\n",
        "  ))"
      ],
      "metadata": {
        "id": "e65dZx2S0R8d"
      },
      "execution_count": 13,
      "outputs": []
    },
    {
      "cell_type": "code",
      "execution_count": 36,
      "metadata": {
        "colab": {
          "base_uri": "https://localhost:8080/"
        },
        "id": "ZF_4Avx6pbKd",
        "outputId": "49142335-cc5b-4f63-e2c1-7d9f503bdf72"
      },
      "outputs": [
        {
          "output_type": "stream",
          "name": "stdout",
          "text": [
            "Epoch    0/20 Cost: 200090.921875\n",
            "Epoch    1/20 Cost: 1105673.875000\n",
            "Epoch    2/20 Cost: 646816.375000\n",
            "Epoch    3/20 Cost: 1064450.750000\n",
            "Epoch    4/20 Cost: 1935385.250000\n",
            "Epoch    5/20 Cost: 307693.093750\n",
            "Epoch    6/20 Cost: 1494736.375000\n",
            "Epoch    7/20 Cost: 668691.375000\n",
            "Epoch    8/20 Cost: 661218.500000\n",
            "Epoch    9/20 Cost: 541635.187500\n",
            "Epoch   10/20 Cost: 1676443.125000\n",
            "Epoch   11/20 Cost: 261552.140625\n",
            "Epoch   12/20 Cost: 1099382.750000\n",
            "Epoch   13/20 Cost: 818691.375000\n",
            "Epoch   14/20 Cost: 1115072.625000\n",
            "Epoch   15/20 Cost: 1478513.250000\n",
            "Epoch   16/20 Cost: 738486.250000\n",
            "Epoch   17/20 Cost: 827507.750000\n",
            "Epoch   18/20 Cost: 643767.250000\n",
            "Epoch   19/20 Cost: 135823.015625\n"
          ]
        }
      ],
      "source": [
        "train(model, optimizer, x_train, y_train)"
      ]
    },
    {
      "cell_type": "code",
      "execution_count": null,
      "metadata": {
        "id": "lPncrIMtpbKd",
        "outputId": "a8db3554-6003-4f81-ce7d-5e798660b676"
      },
      "outputs": [
        {
          "name": "stdout",
          "output_type": "stream",
          "text": [
            "Accuracy: 0.0% Cost: 1.425844\n"
          ]
        }
      ],
      "source": [
        "test(model, optimizer, x_test, y_test)"
      ]
    },
    {
      "cell_type": "markdown",
      "metadata": {
        "id": "P4pxyVQppbKd"
      },
      "source": [
        "## Learning Rate"
      ]
    },
    {
      "cell_type": "markdown",
      "metadata": {
        "id": "ABwS8KiJpbKe"
      },
      "source": [
        "Gradient Descent 에서의 $\\alpha$ 값"
      ]
    },
    {
      "cell_type": "markdown",
      "metadata": {
        "id": "ZYqBXPOppbKe"
      },
      "source": [
        "`optimizer = optim.SGD(model.parameters(), lr=0.1)` 에서 `lr=0.1` 이다"
      ]
    },
    {
      "cell_type": "markdown",
      "metadata": {
        "id": "B9XeFfVnpbKe"
      },
      "source": [
        "learning rate이 너무 크면 diverge 하면서 cost 가 점점 늘어난다 (overshooting)."
      ]
    },
    {
      "cell_type": "code",
      "execution_count": 31,
      "metadata": {
        "id": "vGCT0KXKpbKe"
      },
      "outputs": [],
      "source": [
        "model = SoftmaxClassifierModel()"
      ]
    },
    {
      "cell_type": "code",
      "execution_count": 32,
      "metadata": {
        "id": "pKE7XmRupbKf"
      },
      "outputs": [],
      "source": [
        "optimizer = optim.SGD(model.parameters(), lr=1e5)"
      ]
    },
    {
      "cell_type": "code",
      "source": [
        "optimizer = optim.SGD(model.parameters(), lr = 1e5)"
      ],
      "metadata": {
        "id": "IU8ZcCVE3tu_"
      },
      "execution_count": 34,
      "outputs": []
    },
    {
      "cell_type": "code",
      "execution_count": 37,
      "metadata": {
        "colab": {
          "base_uri": "https://localhost:8080/"
        },
        "id": "wpxoN-r2pbKf",
        "outputId": "874515a6-b7ca-4de3-846d-f8138daa9bdf"
      },
      "outputs": [
        {
          "output_type": "stream",
          "name": "stdout",
          "text": [
            "Epoch    0/20 Cost: 400614.625000\n",
            "Epoch    1/20 Cost: 997820.250000\n",
            "Epoch    2/20 Cost: 532829.750000\n",
            "Epoch    3/20 Cost: 214623.296875\n",
            "Epoch    4/20 Cost: 721298.750000\n",
            "Epoch    5/20 Cost: 759541.437500\n",
            "Epoch    6/20 Cost: 369364.625000\n",
            "Epoch    7/20 Cost: 938445.250000\n",
            "Epoch    8/20 Cost: 782753.875000\n",
            "Epoch    9/20 Cost: 1232260.125000\n",
            "Epoch   10/20 Cost: 1282693.125000\n",
            "Epoch   11/20 Cost: 822861.250000\n",
            "Epoch   12/20 Cost: 780632.875000\n",
            "Epoch   13/20 Cost: 645927.125000\n",
            "Epoch   14/20 Cost: 819893.125000\n",
            "Epoch   15/20 Cost: 459963.750000\n",
            "Epoch   16/20 Cost: 1258798.750000\n",
            "Epoch   17/20 Cost: 371257.812500\n",
            "Epoch   18/20 Cost: 1036552.125000\n",
            "Epoch   19/20 Cost: 640566.375000\n"
          ]
        }
      ],
      "source": [
        "train(model, optimizer, x_train, y_train)"
      ]
    },
    {
      "cell_type": "markdown",
      "metadata": {
        "id": "BvsxSbdJpbKf"
      },
      "source": [
        "learning rate이 너무 작으면 cost가 거의 줄어들지 않는다."
      ]
    },
    {
      "cell_type": "code",
      "execution_count": 38,
      "metadata": {
        "id": "r5ZrI0OLpbKf"
      },
      "outputs": [],
      "source": [
        "model = SoftmaxClassifierModel()"
      ]
    },
    {
      "cell_type": "code",
      "execution_count": 39,
      "metadata": {
        "id": "SUPkrIMxpbKf"
      },
      "outputs": [],
      "source": [
        "optimizer = optim.SGD(model.parameters(), lr=1e-10)"
      ]
    },
    {
      "cell_type": "code",
      "source": [
        "optimizer = optim.SGD(model.parameters(), lr= 0.01)"
      ],
      "metadata": {
        "id": "LhLMHOs436XE"
      },
      "execution_count": 45,
      "outputs": []
    },
    {
      "cell_type": "code",
      "execution_count": 46,
      "metadata": {
        "colab": {
          "base_uri": "https://localhost:8080/"
        },
        "id": "jhdhbelHpbKg",
        "outputId": "5af4fcb7-2031-458c-a224-69f8d14a2c64"
      },
      "outputs": [
        {
          "output_type": "stream",
          "name": "stdout",
          "text": [
            "Epoch    0/20 Cost: 0.896639\n",
            "Epoch    1/20 Cost: 0.896199\n",
            "Epoch    2/20 Cost: 0.895759\n",
            "Epoch    3/20 Cost: 0.895321\n",
            "Epoch    4/20 Cost: 0.894884\n",
            "Epoch    5/20 Cost: 0.894447\n",
            "Epoch    6/20 Cost: 0.894011\n",
            "Epoch    7/20 Cost: 0.893576\n",
            "Epoch    8/20 Cost: 0.893142\n",
            "Epoch    9/20 Cost: 0.892708\n",
            "Epoch   10/20 Cost: 0.892275\n",
            "Epoch   11/20 Cost: 0.891843\n",
            "Epoch   12/20 Cost: 0.891412\n",
            "Epoch   13/20 Cost: 0.890981\n",
            "Epoch   14/20 Cost: 0.890552\n",
            "Epoch   15/20 Cost: 0.890122\n",
            "Epoch   16/20 Cost: 0.889694\n",
            "Epoch   17/20 Cost: 0.889266\n",
            "Epoch   18/20 Cost: 0.888840\n",
            "Epoch   19/20 Cost: 0.888413\n"
          ]
        }
      ],
      "source": [
        "train(model, optimizer, x_train, y_train)"
      ]
    },
    {
      "cell_type": "markdown",
      "metadata": {
        "id": "fdB9-V5opbKg"
      },
      "source": [
        "적절한 숫자로 시작해 발산하면 작게, cost가 줄어들지 않으면 크게 조정하자."
      ]
    },
    {
      "cell_type": "code",
      "execution_count": 47,
      "metadata": {
        "id": "J8ijMIrTpbKg"
      },
      "outputs": [],
      "source": [
        "model = SoftmaxClassifierModel()"
      ]
    },
    {
      "cell_type": "code",
      "execution_count": 48,
      "metadata": {
        "id": "MVNgjCQ2pbKg"
      },
      "outputs": [],
      "source": [
        "optimizer = optim.SGD(model.parameters(), lr=1e-1)"
      ]
    },
    {
      "cell_type": "code",
      "execution_count": 49,
      "metadata": {
        "colab": {
          "base_uri": "https://localhost:8080/"
        },
        "id": "9spSSsUFpbKg",
        "outputId": "89907a22-f0f8-41b4-ea19-ca758b7cd61f"
      },
      "outputs": [
        {
          "output_type": "stream",
          "name": "stdout",
          "text": [
            "Epoch    0/20 Cost: 1.341574\n",
            "Epoch    1/20 Cost: 1.198802\n",
            "Epoch    2/20 Cost: 1.150877\n",
            "Epoch    3/20 Cost: 1.131977\n",
            "Epoch    4/20 Cost: 1.116242\n",
            "Epoch    5/20 Cost: 1.102514\n",
            "Epoch    6/20 Cost: 1.089676\n",
            "Epoch    7/20 Cost: 1.077479\n",
            "Epoch    8/20 Cost: 1.065775\n",
            "Epoch    9/20 Cost: 1.054511\n",
            "Epoch   10/20 Cost: 1.043655\n",
            "Epoch   11/20 Cost: 1.033187\n",
            "Epoch   12/20 Cost: 1.023091\n",
            "Epoch   13/20 Cost: 1.013356\n",
            "Epoch   14/20 Cost: 1.003968\n",
            "Epoch   15/20 Cost: 0.994917\n",
            "Epoch   16/20 Cost: 0.986189\n",
            "Epoch   17/20 Cost: 0.977775\n",
            "Epoch   18/20 Cost: 0.969661\n",
            "Epoch   19/20 Cost: 0.961836\n"
          ]
        }
      ],
      "source": [
        "train(model, optimizer, x_train, y_train)"
      ]
    },
    {
      "cell_type": "markdown",
      "metadata": {
        "id": "UlcEXC1HpbKg"
      },
      "source": [
        "## Data Preprocessing (데이터 전처리)"
      ]
    },
    {
      "cell_type": "markdown",
      "metadata": {
        "id": "-PD7F2atpbKh"
      },
      "source": [
        "데이터를 zero-center하고 normalize하자."
      ]
    },
    {
      "cell_type": "code",
      "execution_count": 50,
      "metadata": {
        "id": "9W0txjhopbKh"
      },
      "outputs": [],
      "source": [
        "x_train = torch.FloatTensor([[73, 80, 75],\n",
        "                             [93, 88, 93],\n",
        "                             [89, 91, 90],\n",
        "                             [96, 98, 100],\n",
        "                             [73, 66, 70]])\n",
        "y_train = torch.FloatTensor([[152], [185], [180], [196], [142]])"
      ]
    },
    {
      "cell_type": "markdown",
      "metadata": {
        "id": "OL6_9vrTpbKi"
      },
      "source": [
        "$$ x'_j = \\frac{x_j - \\mu_j}{\\sigma_j} $$"
      ]
    },
    {
      "cell_type": "markdown",
      "metadata": {
        "id": "uSfhMH-PpbKi"
      },
      "source": [
        "여기서 $\\sigma$ 는 standard deviation, $\\mu$ 는 평균값 이다."
      ]
    },
    {
      "cell_type": "code",
      "execution_count": 51,
      "metadata": {
        "id": "6v58ztnLpbKi"
      },
      "outputs": [],
      "source": [
        "mu = x_train.mean(dim=0)"
      ]
    },
    {
      "cell_type": "code",
      "execution_count": 52,
      "metadata": {
        "id": "M8JZX1e0pbKi"
      },
      "outputs": [],
      "source": [
        "sigma = x_train.std(dim=0)"
      ]
    },
    {
      "cell_type": "code",
      "execution_count": 53,
      "metadata": {
        "id": "g5uDKWLPpbKj"
      },
      "outputs": [],
      "source": [
        "norm_x_train = (x_train - mu) / sigma"
      ]
    },
    {
      "cell_type": "code",
      "source": [
        "mu = x_train.mean(dim=0)\n",
        "sigma = x_train.std(dim=0)\n",
        "norm_x_train = (x_train-mu) / sigma"
      ],
      "metadata": {
        "id": "vzM7an7-4QFF"
      },
      "execution_count": 55,
      "outputs": []
    },
    {
      "cell_type": "code",
      "execution_count": 54,
      "metadata": {
        "colab": {
          "base_uri": "https://localhost:8080/"
        },
        "id": "KaZ2mdZRpbKj",
        "outputId": "398b13fb-b188-41c3-cf54-0b686cfb32cf"
      },
      "outputs": [
        {
          "output_type": "stream",
          "name": "stdout",
          "text": [
            "tensor([[-1.0674, -0.3758, -0.8398],\n",
            "        [ 0.7418,  0.2778,  0.5863],\n",
            "        [ 0.3799,  0.5229,  0.3486],\n",
            "        [ 1.0132,  1.0948,  1.1409],\n",
            "        [-1.0674, -1.5197, -1.2360]])\n"
          ]
        }
      ],
      "source": [
        "print(norm_x_train)"
      ]
    },
    {
      "cell_type": "markdown",
      "metadata": {
        "id": "UkPP0tOYpbKj"
      },
      "source": [
        "Normalize와 zero center한 X로 학습해서 성능을 보자"
      ]
    },
    {
      "cell_type": "code",
      "execution_count": null,
      "metadata": {
        "id": "EDkXDF_8pbKj"
      },
      "outputs": [],
      "source": [
        "class MultivariateLinearRegressionModel(nn.Module):\n",
        "    def __init__(self):\n",
        "        super().__init__()\n",
        "        self.linear = nn.Linear(3, 1)\n",
        "\n",
        "    def forward(self, x):\n",
        "        return self.linear(x)"
      ]
    },
    {
      "cell_type": "code",
      "source": [
        "class MultivariateLinearRegressionModel(nn.Module):\n",
        "  def __init__(self):\n",
        "    super().__init__()\n",
        "    self.linear = nn.Linear(3,1)\n",
        "  \n",
        "  def forward(self,x):\n",
        "    return self.linear(x)"
      ],
      "metadata": {
        "id": "PKfpqa174avG"
      },
      "execution_count": 56,
      "outputs": []
    },
    {
      "cell_type": "code",
      "execution_count": 57,
      "metadata": {
        "id": "UytRyL0YpbKj"
      },
      "outputs": [],
      "source": [
        "model = MultivariateLinearRegressionModel()"
      ]
    },
    {
      "cell_type": "code",
      "execution_count": 58,
      "metadata": {
        "id": "MAWtWZzypbKj"
      },
      "outputs": [],
      "source": [
        "optimizer = optim.SGD(model.parameters(), lr=1e-1)"
      ]
    },
    {
      "cell_type": "code",
      "execution_count": 59,
      "metadata": {
        "id": "wpbCJ6oNpbKk"
      },
      "outputs": [],
      "source": [
        "def train(model, optimizer, x_train, y_train):\n",
        "    nb_epochs = 20\n",
        "    for epoch in range(nb_epochs):\n",
        "\n",
        "        # H(x) 계산\n",
        "        prediction = model(x_train)\n",
        "\n",
        "        # cost 계산\n",
        "        cost = F.mse_loss(prediction, y_train)\n",
        "\n",
        "        # cost로 H(x) 개선\n",
        "        optimizer.zero_grad()\n",
        "        cost.backward()\n",
        "        optimizer.step()\n",
        "\n",
        "        print('Epoch {:4d}/{} Cost: {:.6f}'.format(\n",
        "            epoch, nb_epochs, cost.item()\n",
        "        ))"
      ]
    },
    {
      "cell_type": "code",
      "source": [
        "def train(model, optimizer, x_train, y_train):\n",
        "  nb_epochs  = 20\n",
        "  for epoch in range(nb_epochs):\n",
        "    prediction = model(x_train)\n",
        "    cost = F.mse_loss(prediction, y_train)\n",
        "\n",
        "    optimizer.zero_grad()\n",
        "    cost.backward()\n",
        "    optimizer.step()\n",
        "\n",
        "    print('Epoch {:4d}/{} Cost: {:.6f}'.format(\n",
        "            epoch, nb_epochs, cost.item()\n",
        "        ))"
      ],
      "metadata": {
        "id": "qRoLhm1r4nOG"
      },
      "execution_count": 62,
      "outputs": []
    },
    {
      "cell_type": "code",
      "execution_count": 64,
      "metadata": {
        "colab": {
          "base_uri": "https://localhost:8080/"
        },
        "id": "4P5ULdGYpbKk",
        "outputId": "929579df-bb27-44a7-d830-e18924043986"
      },
      "outputs": [
        {
          "output_type": "stream",
          "name": "stdout",
          "text": [
            "Epoch    0/20 Cost: 29785.089844\n",
            "Epoch    1/20 Cost: 18906.166016\n",
            "Epoch    2/20 Cost: 12054.673828\n",
            "Epoch    3/20 Cost: 7702.029785\n",
            "Epoch    4/20 Cost: 4925.733398\n",
            "Epoch    5/20 Cost: 3151.632812\n",
            "Epoch    6/20 Cost: 2016.996094\n",
            "Epoch    7/20 Cost: 1291.051270\n",
            "Epoch    8/20 Cost: 826.505249\n",
            "Epoch    9/20 Cost: 529.207397\n",
            "Epoch   10/20 Cost: 338.934174\n",
            "Epoch   11/20 Cost: 217.153564\n",
            "Epoch   12/20 Cost: 139.206757\n",
            "Epoch   13/20 Cost: 89.313782\n",
            "Epoch   14/20 Cost: 57.375465\n",
            "Epoch   15/20 Cost: 36.928429\n",
            "Epoch   16/20 Cost: 23.835773\n",
            "Epoch   17/20 Cost: 15.450401\n",
            "Epoch   18/20 Cost: 10.077809\n",
            "Epoch   19/20 Cost: 6.633700\n"
          ]
        }
      ],
      "source": [
        "train(model, optimizer, norm_x_train, y_train)"
      ]
    },
    {
      "cell_type": "markdown",
      "metadata": {
        "id": "w2ODIwfQpbKk"
      },
      "source": [
        "## Overfitting"
      ]
    },
    {
      "cell_type": "markdown",
      "metadata": {
        "id": "o_n44imvpbKk"
      },
      "source": [
        "너무 학습 데이터에 한해 잘 학습해 테스트 데이터에 좋은 성능을 내지 못할 수도 있다."
      ]
    },
    {
      "cell_type": "markdown",
      "metadata": {
        "id": "7BNF4BbgpbKk"
      },
      "source": [
        "이것을 방지하는 방법은 크게 세 가지인데:\n",
        "\n",
        "1. 더 많은 학습 데이터\n",
        "2. 더 적은 양의 feature\n",
        "3. **Regularization**"
      ]
    },
    {
      "cell_type": "markdown",
      "metadata": {
        "id": "_H_RAXWRpbKl"
      },
      "source": [
        "Regularization: Let's not have too big numbers in the weights"
      ]
    },
    {
      "cell_type": "code",
      "execution_count": 66,
      "metadata": {
        "id": "wDiTJRpkpbKl"
      },
      "outputs": [],
      "source": [
        "def train_with_regularization(model, optimizer, x_train, y_train):\n",
        "    nb_epochs = 20\n",
        "    for epoch in range(nb_epochs):\n",
        "\n",
        "        # H(x) 계산\n",
        "        prediction = model(x_train)\n",
        "\n",
        "        # cost 계산\n",
        "        cost = F.mse_loss(prediction, y_train)\n",
        "        \n",
        "        # l2 norm 계산\n",
        "        l2_reg = 0\n",
        "        for param in model.parameters():\n",
        "            l2_reg += torch.norm(param)\n",
        "            \n",
        "        cost += l2_reg\n",
        "\n",
        "        # cost로 H(x) 개선\n",
        "        optimizer.zero_grad()\n",
        "        cost.backward()\n",
        "        optimizer.step()\n",
        "\n",
        "        print('Epoch {:4d}/{} Cost: {:.6f}'.format(\n",
        "            epoch+1, nb_epochs, cost.item()\n",
        "        ))"
      ]
    },
    {
      "cell_type": "code",
      "source": [
        "def train_with_regularization(model, optimizer, x_train, y_train):\n",
        "  nb_epochs = 20\n",
        "  for epoch in range(nb_epochs):\n",
        "    prediction = model(x_train)\n",
        "    cost = F.mse_loss(prediction, y_train)\n",
        "    l2_reg = 0\n",
        "    for params in model.parameters():\n",
        "      l2_reg += torch.norm(params)\n",
        "\n",
        "    cost+= l2_reg\n",
        "    optimizer.zero_grad()\n",
        "    cost.backward()\n",
        "    optimizer.step()\n",
        "\n",
        "    print('Epoch {:4d}/{} Cost: {:.6f}'.format(\n",
        "        epoch+1, nb_epochs, cost.item()\n",
        "    ))"
      ],
      "metadata": {
        "id": "S_rKiJFp5J_K"
      },
      "execution_count": 74,
      "outputs": []
    },
    {
      "cell_type": "code",
      "execution_count": 75,
      "metadata": {
        "id": "WqCQ4Eu4pbKl"
      },
      "outputs": [],
      "source": [
        "model = MultivariateLinearRegressionModel()"
      ]
    },
    {
      "cell_type": "code",
      "execution_count": 76,
      "metadata": {
        "id": "2cyZK1XTpbKl"
      },
      "outputs": [],
      "source": [
        "optimizer = optim.SGD(model.parameters(), lr=1e-1)"
      ]
    },
    {
      "cell_type": "code",
      "execution_count": 77,
      "metadata": {
        "colab": {
          "base_uri": "https://localhost:8080/"
        },
        "id": "s-Dy62RcpbKl",
        "outputId": "831b10a1-40c5-40e6-f970-7316722aa5de"
      },
      "outputs": [
        {
          "output_type": "stream",
          "name": "stdout",
          "text": [
            "Epoch    1/20 Cost: 29475.767578\n",
            "Epoch    2/20 Cost: 18791.171875\n",
            "Epoch    3/20 Cost: 12053.740234\n",
            "Epoch    4/20 Cost: 7769.610352\n",
            "Epoch    5/20 Cost: 5035.856934\n",
            "Epoch    6/20 Cost: 3288.601074\n",
            "Epoch    7/20 Cost: 2171.032715\n",
            "Epoch    8/20 Cost: 1455.978271\n",
            "Epoch    9/20 Cost: 998.392273\n",
            "Epoch   10/20 Cost: 705.545166\n",
            "Epoch   11/20 Cost: 518.118896\n",
            "Epoch   12/20 Cost: 398.159241\n",
            "Epoch   13/20 Cost: 321.377930\n",
            "Epoch   14/20 Cost: 272.230255\n",
            "Epoch   15/20 Cost: 240.768875\n",
            "Epoch   16/20 Cost: 220.626984\n",
            "Epoch   17/20 Cost: 207.729843\n",
            "Epoch   18/20 Cost: 199.469604\n",
            "Epoch   19/20 Cost: 194.177429\n",
            "Epoch   20/20 Cost: 190.785126\n"
          ]
        }
      ],
      "source": [
        "train_with_regularization(model, optimizer, norm_x_train, y_train)"
      ]
    },
    {
      "cell_type": "code",
      "source": [
        ""
      ],
      "metadata": {
        "id": "i-iak6b45IfA"
      },
      "execution_count": null,
      "outputs": []
    }
  ],
  "metadata": {
    "kernelspec": {
      "display_name": "Python 3",
      "language": "python",
      "name": "python3"
    },
    "language_info": {
      "codemirror_mode": {
        "name": "ipython",
        "version": 3
      },
      "file_extension": ".py",
      "mimetype": "text/x-python",
      "name": "python",
      "nbconvert_exporter": "python",
      "pygments_lexer": "ipython3",
      "version": "3.6.5"
    },
    "colab": {
      "name": "lab-07_1_tips.ipynb",
      "provenance": []
    }
  },
  "nbformat": 4,
  "nbformat_minor": 0
}